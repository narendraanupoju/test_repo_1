{
 "cells": [
  {
   "cell_type": "code",
   "execution_count": null,
   "id": "78f589f5",
   "metadata": {},
   "outputs": [],
   "source": [
    "list1 = [10, 34, 52, 8]\n",
    "list2 = [23, 1, 83, 98]\n",
    "add_list = list1+list2"
   ]
  },
  {
   "cell_type": "code",
   "execution_count": null,
   "id": "c1efa9ae",
   "metadata": {},
   "outputs": [],
   "source": [
    "a = 2\n",
    "b = 10\n",
    "c = int(a+b)\n",
    "print(f'{c} is the result')"
   ]
  },
  {
   "cell_type": "code",
   "execution_count": null,
   "id": "5bf1a654",
   "metadata": {},
   "outputs": [],
   "source": [
    "for i in range(10):\n",
    "    print(add_list[i])"
   ]
  }
 ],
 "metadata": {
  "kernelspec": {
   "display_name": "Python 3 (ipykernel)",
   "language": "python",
   "name": "python3"
  },
  "language_info": {
   "codemirror_mode": {
    "name": "ipython",
    "version": 3
   },
   "file_extension": ".py",
   "mimetype": "text/x-python",
   "name": "python",
   "nbconvert_exporter": "python",
   "pygments_lexer": "ipython3",
   "version": "3.9.7"
  }
 },
 "nbformat": 4,
 "nbformat_minor": 5
}
